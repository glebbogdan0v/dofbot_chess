{
 "cells": [
  {
   "cell_type": "code",
   "execution_count": 1,
   "id": "17b3b934-73e5-4779-97d5-da19b4c0959e",
   "metadata": {},
   "outputs": [],
   "source": [
    "import cv2\n",
    "import numpy as np\n",
    "from typing import List\n",
    "from square_data import SquareData\n",
    "import json\n",
    "import os \n",
    "#import time\n",
    "#from Arm_Lib import Arm_Device"
   ]
  },
  {
   "cell_type": "code",
   "execution_count": 2,
   "id": "2aeb0850-593c-4c6f-9841-7119bc1314ac",
   "metadata": {},
   "outputs": [
    {
     "data": {
      "text/plain": [
       "'Arm = Arm_Device()\\ntime.sleep(.1)\\n# Control the movement of six servos at the same time and gradually change the angle.\\ndef ctrl_all_servo(angle, s_time = 500):\\n  Arm.Arm_serial_servo_write6(angle, 180-angle, angle, angle, angle, angle,\\ns_time)\\n  time.sleep(s_time/1000)\\ndef main():\\n  dir_state = 1\\n  angle=90\\n \\n  # Reset the servo to center\\n      Arm.Arm_serial_servo_write6(90, 90, 90, 90, 90, 90, 500)\\n      time.sleep(1)\\n \\n  while True:\\n      if dir_state == 1:\\n      angle += 1\\n      if angle >= 180:\\n      dir_state = 0\\n      else:\\n      angle -= 1\\n      if angle <= 0:\\n      dir_state = 1\\n \\nctrl_all_servo(angle, 10)\\ntime.sleep(10/1000)\\n# print(angle)\\ntry:\\n  main()\\nexcept KeyboardInterrupt:\\nprint(\"Program closed! \")\\npass'"
      ]
     },
     "execution_count": 2,
     "metadata": {},
     "output_type": "execute_result"
    }
   ],
   "source": [
    "#Create a robotic arm object\n",
    "\"\"\"Arm = Arm_Device()\n",
    "time.sleep(.1)\n",
    "# Control the movement of six servos at the same time and gradually change the angle.\n",
    "def ctrl_all_servo(angle, s_time = 500):\n",
    "  Arm.Arm_serial_servo_write6(angle, 180-angle, angle, angle, angle, angle,\n",
    "s_time)\n",
    "  time.sleep(s_time/1000)\n",
    "def main():\n",
    "  dir_state = 1\n",
    "  angle=90\n",
    " \n",
    "  # Reset the servo to center\n",
    "      Arm.Arm_serial_servo_write6(90, 90, 90, 90, 90, 90, 500)\n",
    "      time.sleep(1)\n",
    " \n",
    "  while True:\n",
    "      if dir_state == 1:\n",
    "      angle += 1\n",
    "      if angle >= 180:\n",
    "      dir_state = 0\n",
    "      else:\n",
    "      angle -= 1\n",
    "      if angle <= 0:\n",
    "      dir_state = 1\n",
    " \n",
    "ctrl_all_servo(angle, 10)\n",
    "time.sleep(10/1000)\n",
    "# print(angle)\n",
    "try:\n",
    "  main()\n",
    "except KeyboardInterrupt:\n",
    "print(\"Program closed! \")\n",
    "pass\"\"\"\n"
   ]
  },
  {
   "cell_type": "code",
   "execution_count": 3,
   "id": "17f65d38-1d17-4690-b238-70aef37346fe",
   "metadata": {},
   "outputs": [],
   "source": [
    "class ChessBoardDetector:\n",
    "    def __init__(self):\n",
    "        self.criteria = (cv2.TERM_CRITERIA_EPS + cv2.TERM_CRITERIA_MAX_ITER, 30, 0.001)\n",
    "        self.square_info = []\n",
    "\n",
    "    def drawSquare(self, img, corners):\n",
    "        corners = corners.reshape(-1, 2)\n",
    "        top_left = tuple(corners[0].ravel())\n",
    "        top_right = tuple(corners[8].ravel())\n",
    "        bottom_right = tuple(corners[-1].ravel())\n",
    "        bottom_left = tuple(corners[-9].ravel())\n",
    "        center = tuple([abs(int((top_left[0] + top_right[0]) / 2)), abs(int((top_right[1] + bottom_right[1]) / 2))])\n",
    "        top_side_len = abs(int(top_left[0] - top_right[0]))\n",
    "\n",
    "        pts = np.array([top_left, top_right, bottom_right, bottom_left], np.int32)\n",
    "        pts = pts.reshape((-1, 1, 2))\n",
    "\n",
    "        cv2.polylines(img, [pts], isClosed=True, color=(0, 0, 255), thickness=2)\n",
    "        cv2.circle(img, center, radius=5, color=(0, 0, 255), thickness=2)\n",
    "\n",
    "        return tuple([img, center, top_side_len])\n",
    "\n",
    "    def run(self):\n",
    "        cap = cv2.VideoCapture(0)\n",
    "\n",
    "        cv2.namedWindow('img', cv2.WINDOW_NORMAL)\n",
    "        cv2.resizeWindow('img', 1280, 760)\n",
    "\n",
    "        count = 0\n",
    "        while True:\n",
    "            ret, frame = cap.read()\n",
    "\n",
    "            frame = cv2.flip(frame, 1)\n",
    "            frame = draw_circle(frame)\n",
    "            if not ret:\n",
    "                break\n",
    "\n",
    "            gray = cv2.cvtColor(frame, cv2.COLOR_BGR2GRAY)\n",
    "\n",
    "            ret, corners = cv2.findChessboardCorners(gray, (9, 6), None)\n",
    "\n",
    "            if ret:\n",
    "                corners2 = cv2.cornerSubPix(gray, corners, (11, 11), (-1, -1), self.criteria)\n",
    "                frame, center, top_side_len = self.drawSquare(frame, corners2)\n",
    "\n",
    "            cv2.imshow('img', frame)\n",
    "            key = cv2.waitKey(1) & 0xFF\n",
    "\n",
    "            if count == 2:\n",
    "                get_shift_info(self.square_info)\n",
    "                break\n",
    "\n",
    "            if key == ord('p') and count < 2 and ret:\n",
    "                is_saved = cv2.imwrite(f\"chessboard/{count}_photo.png\", frame)\n",
    "                if is_saved:\n",
    "                    self.square_info.append(SquareData(center, top_side_len))\n",
    "                    count += 1\n",
    "                    print('Successfully saved')\n",
    "\n",
    "\n",
    "            if key == ord('q'):\n",
    "                break\n",
    "\n",
    "        cap.release()\n",
    "        cv2.destroyAllWindows()"
   ]
  },
  {
   "cell_type": "code",
   "execution_count": 4,
   "id": "ad062ce4-989b-4932-9ed8-38e09be0168d",
   "metadata": {},
   "outputs": [],
   "source": [
    "def get_shift_info(square_info: List):\n",
    "    start_dir = 700\n",
    "    f = 63\n",
    "\n",
    "    k = square_info[0].top_side_len / square_info[1].top_side_len\n",
    "    x = square_info[0].center[0] - square_info[1].center[0]\n",
    "    y = square_info[0].center[1] - square_info[1].center[1]\n",
    "\n",
    "    z_dist = k * start_dir - start_dir\n",
    "    x_dist = x * (start_dir + z_dist) / f \n",
    "    y_dist = y * (start_dir + z_dist) / f\n",
    "\n",
    "    \n",
    "\n",
    "    data = {'x': x_dist, 'y': y_dist, 'depth': z_dist}\n",
    "    \n",
    "    with open('result.json', 'w') as file:\n",
    "        json.dump(data, file)\n",
    "\n",
    "    print(f\"По координате X: {x_dist}мм\")\n",
    "    print(f\"По координате y: {y_dist}мм\")\n",
    "    print(f\"Глубина: {z_dist}мм\")"
   ]
  },
  {
   "cell_type": "code",
   "execution_count": 5,
   "id": "6576923d-5af0-4008-96e9-6a8094bf5bbe",
   "metadata": {},
   "outputs": [],
   "source": [
    "def draw_circle(frame):\n",
    "    cv2.circle(frame, (320, 240), radius=5, color=(0, 255, 0), thickness=2)\n",
    "    return frame"
   ]
  },
  {
   "cell_type": "code",
   "execution_count": 6,
   "id": "4c58107e-4a50-438b-99e2-ee7f61c49292",
   "metadata": {},
   "outputs": [],
   "source": [
    "if __name__ == \"__main__\":\n",
    "    chess_board_detector = ChessBoardDetector()\n",
    "    chess_board_detector.run()"
   ]
  }
 ],
 "metadata": {
  "kernelspec": {
   "display_name": "Python 3 (ipykernel)",
   "language": "python",
   "name": "python3"
  },
  "language_info": {
   "codemirror_mode": {
    "name": "ipython",
    "version": 3
   },
   "file_extension": ".py",
   "mimetype": "text/x-python",
   "name": "python",
   "nbconvert_exporter": "python",
   "pygments_lexer": "ipython3",
   "version": "3.9.6"
  }
 },
 "nbformat": 4,
 "nbformat_minor": 5
}
